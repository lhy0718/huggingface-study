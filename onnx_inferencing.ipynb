{
 "cells": [
  {
   "cell_type": "code",
   "execution_count": 2,
   "source": [
    "import torch\n",
    "import onnxruntime\n",
    "from transformers import BertTokenizerFast\n",
    "import numpy as np\n",
    "ses = onnxruntime.InferenceSession('onnx/bert-base-uncased/bert-base-uncased-emotion.onnx', providers=[\"CUDAExecutionProvider\"])\n",
    "tokenizer = BertTokenizerFast.from_pretrained('bert-base-uncased')\n",
    "io_binding = ses.io_binding()"
   ],
   "outputs": [],
   "metadata": {}
  },
  {
   "cell_type": "code",
   "execution_count": 49,
   "source": [
    "texts = ['This is fun.', 'I am very angry.', 'I am sad.']\n",
    "inputs = tokenizer(texts, padding=True)\n",
    "\n",
    "for input_name in inputs.keys():\n",
    "    io_binding.bind_cpu_input( # input을 numpy로 변환 후 CUDA에 바인딩\n",
    "        input_name, np.array(inputs[input_name]))\n",
    "\n",
    "io_binding.bind_output('output') # output을 CUDA에 바인딩\n",
    "ses.run_with_iobinding(io_binding) # session 실행\n",
    "outputs = io_binding.copy_outputs_to_cpu() # CUDA에서 output을 가져옴\n",
    "\n",
    "labels = ['sadness', 'joy', 'love', 'anger', 'fear', 'surprise']\n",
    "output_labels = [labels[int(output.argmax())] for output in torch.Tensor(outputs).squeeze()]\n",
    "output_scores = [float(output.softmax(dim=-1).max()) for output in torch.Tensor(outputs).squeeze()]\n",
    "\n",
    "print('\\n'.join(f'{text} => {label}: {score*100:.2f}%' for text, label, score in zip(texts, output_labels, output_scores)))"
   ],
   "outputs": [
    {
     "output_type": "stream",
     "name": "stdout",
     "text": [
      "This is fun. => joy: 99.88%\n",
      "I am very angry. => anger: 99.63%\n",
      "I am sad. => sadness: 99.80%\n"
     ]
    }
   ],
   "metadata": {}
  },
  {
   "cell_type": "code",
   "execution_count": null,
   "source": [],
   "outputs": [],
   "metadata": {}
  }
 ],
 "metadata": {
  "orig_nbformat": 4,
  "language_info": {
   "name": "python",
   "version": "3.9.7",
   "mimetype": "text/x-python",
   "codemirror_mode": {
    "name": "ipython",
    "version": 3
   },
   "pygments_lexer": "ipython3",
   "nbconvert_exporter": "python",
   "file_extension": ".py"
  },
  "kernelspec": {
   "name": "python3",
   "display_name": "Python 3.9.7 64-bit ('venv': conda)"
  },
  "interpreter": {
   "hash": "a4dfd762fc3f058fbb072f431cf34d4bd09d42457cf6569815d3bec7adc6bd52"
  }
 },
 "nbformat": 4,
 "nbformat_minor": 2
}