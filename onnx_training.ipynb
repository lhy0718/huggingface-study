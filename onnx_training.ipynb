{
 "cells": [
  {
   "cell_type": "markdown",
   "source": [
    "# loading pretrained tokenizer and text classification model"
   ],
   "metadata": {}
  },
  {
   "cell_type": "code",
   "execution_count": 1,
   "source": [
    "import torch\n",
    "from transformers import BertTokenizerFast, BertForSequenceClassification\n",
    "\n",
    "model = BertForSequenceClassification.from_pretrained(\n",
    "    'model/BertForSequenceClassification/bert-base-uncased-emotion')\n",
    "tokenizer = BertTokenizerFast.from_pretrained(\n",
    "    'tokenizer/BertTokenizerFast/bert-base-uncased')\n",
    "device = torch.device('cuda:0')\n"
   ],
   "outputs": [],
   "metadata": {}
  },
  {
   "cell_type": "markdown",
   "source": [
    "# defining custom Dataset Class"
   ],
   "metadata": {}
  },
  {
   "cell_type": "code",
   "execution_count": 2,
   "source": [
    "import torch\n",
    "from transformers import PreTrainedTokenizerBase\n",
    "import pandas as pd\n",
    "\n",
    "\n",
    "class TokenizedDataset(torch.utils.data.Dataset):\n",
    "    def __init__(self, path: str = None, df: pd.DataFrame = None, tokenizer: PreTrainedTokenizerBase = None):\n",
    "        if path != None:\n",
    "            df = pd.read_csv(path)\n",
    "        else:\n",
    "            if df.empty:\n",
    "                raise ValueError(df)\n",
    "        self._encodings = tokenizer(df['text'].to_list(), padding=True, truncation=True, return_tensors='pt')\n",
    "        self._encodings['labels'] = torch.full(\n",
    "            (len(self._encodings['input_ids']),), model.num_labels-1)\n",
    "        self._labels = torch.tensor(df['label'])\n",
    "    \n",
    "    def __len__(self):\n",
    "        return len(self._labels)\n",
    "\n",
    "    def __getitem__(self, index):\n",
    "        item = {key: val[index] for key, val in self._encodings.items()}\n",
    "        item['label'] = self._labels[index]\n",
    "        return item\n",
    "\n"
   ],
   "outputs": [],
   "metadata": {}
  },
  {
   "cell_type": "code",
   "execution_count": 10,
   "source": [
    "from torch.utils.data import DataLoader\n",
    "train = TokenizedDataset(\n",
    "    df=pd.read_csv('dataset/dataset.csv'), tokenizer=tokenizer)\n",
    "\n",
    "train_loader = DataLoader(train, batch_size=64, shuffle=True)\n",
    "print(len(train), train[0].keys())"
   ],
   "outputs": [
    {
     "output_type": "stream",
     "name": "stdout",
     "text": [
      "19135 dict_keys(['input_ids', 'token_type_ids', 'attention_mask', 'labels', 'label'])\n"
     ]
    }
   ],
   "metadata": {}
  },
  {
   "cell_type": "markdown",
   "source": [
    "# using Trainer/TrainerArguments"
   ],
   "metadata": {}
  },
  {
   "cell_type": "code",
   "execution_count": null,
   "source": [
    "import os\n",
    "from transformers import TrainingArguments, Trainer\n",
    "import torch_ort\n",
    "\n",
    "ort_model = torch_ort.ORTModule(model)\n",
    "ort_model.to(device=device)\n",
    "ort_model.train()\n",
    "\n",
    "# os.environ[\"TOKENIZERS_PARALLELISM\"] = \"false\"\n",
    "\n",
    "training_args = TrainingArguments(output_dir=\"trainer\", num_train_epochs=50)\n",
    "\n",
    "trainer = Trainer(\n",
    "    model=ort_model, args=training_args, train_dataset=train, eval_dataset=train\n",
    ")\n",
    "\n",
    "trainer.train()\n"
   ],
   "outputs": [],
   "metadata": {}
  },
  {
   "cell_type": "markdown",
   "source": [
    "# custom trainer"
   ],
   "metadata": {}
  },
  {
   "cell_type": "code",
   "execution_count": 10,
   "source": [
    "# import torch_ort\n",
    "\n",
    "# ort_model = torch_ort.ORTModule(model)\n",
    "# ort_model.to(device=device)\n",
    "# ort_model.train()\n",
    "\n",
    "# criterion = torch.nn.CrossEntropyLoss()\n",
    "# optimizer = torch.optim.SGD(ort_model.parameters(), lr=1e-4)\n",
    "\n",
    "# max_epochs = 20\n",
    "\n",
    "# for epoch in range(max_epochs):\n",
    "#     for data in train_loader:\n",
    "#         label = data['label']\n",
    "#         data.pop('label')\n",
    "#         inputs = data\n",
    "#         optimizer.zero_grad()\n",
    "#         outputs = ort_model(**data)\n",
    "#         outputs.loss.backward()\n",
    "#         optimizer.step()\n",
    "#         print(f'loss : {float(outputs.loss)}')\n"
   ],
   "outputs": [],
   "metadata": {}
  }
 ],
 "metadata": {
  "orig_nbformat": 4,
  "language_info": {
   "name": "python",
   "version": "3.9.7",
   "mimetype": "text/x-python",
   "codemirror_mode": {
    "name": "ipython",
    "version": 3
   },
   "pygments_lexer": "ipython3",
   "nbconvert_exporter": "python",
   "file_extension": ".py"
  },
  "kernelspec": {
   "name": "python3",
   "display_name": "Python 3.9.7 64-bit ('venv': conda)"
  },
  "interpreter": {
   "hash": "a4dfd762fc3f058fbb072f431cf34d4bd09d42457cf6569815d3bec7adc6bd52"
  }
 },
 "nbformat": 4,
 "nbformat_minor": 2
}