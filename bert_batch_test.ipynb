{
 "cells": [
  {
   "cell_type": "markdown",
   "source": [
    "# check tf devices"
   ],
   "metadata": {}
  },
  {
   "cell_type": "code",
   "execution_count": null,
   "source": [
    "import tensorflow as tf\n",
    "print(tf.config.get_visible_devices())"
   ],
   "outputs": [],
   "metadata": {}
  },
  {
   "cell_type": "markdown",
   "source": [
    "# pipeline test"
   ],
   "metadata": {}
  },
  {
   "cell_type": "code",
   "execution_count": null,
   "source": [
    "from transformers import pipeline\n",
    "classifier = pipeline('text-classification')\n",
    "classifier(\"My name is Clara and I live in Berkeley, California. I work at this cool company called Hugging Face.\")"
   ],
   "outputs": [],
   "metadata": {}
  },
  {
   "cell_type": "markdown",
   "source": [
    "# TFBertForSequenceClassification Batch prediction"
   ],
   "metadata": {}
  },
  {
   "cell_type": "markdown",
   "source": [
    "## select model & tokenizer"
   ],
   "metadata": {}
  },
  {
   "cell_type": "code",
   "execution_count": null,
   "source": [
    "from transformers import BertTokenizer, TFBertForSequenceClassification\n",
    "tokenizer = BertTokenizer.from_pretrained('bert-base-cased')\n",
    "model = TFBertForSequenceClassification.from_pretrained(\n",
    "    'bhadresh-savani/bert-base-uncased-emotion')\n"
   ],
   "outputs": [],
   "metadata": {}
  },
  {
   "cell_type": "markdown",
   "source": [
    "## define batch_predict"
   ],
   "metadata": {}
  },
  {
   "cell_type": "code",
   "execution_count": null,
   "source": [
    "import tensorflow as tf\n",
    "import numpy as np\n",
    "\n",
    "\n",
    "def batch_predict(model, tokenizer, texts, batch_size):\n",
    "    texts_remain = texts[len(texts) // batch_size * batch_size:]\n",
    "    texts = np.resize(texts, (len(texts) // batch_size, batch_size))\n",
    "\n",
    "    batches = [tokenizer(list(batch), return_tensors=\"tf\", padding=True)\n",
    "            for batch in texts]\n",
    "\n",
    "    for batch in batches:\n",
    "        batch[\"labels\"] = tf.fill(\n",
    "            [1, batch['input_ids'].shape[0]], tf.constant(model.num_labels-1))\n",
    "\n",
    "    outputs = []\n",
    "    for batch in batches:\n",
    "        output = dict()\n",
    "        output['TFSequenceClassifierOutput'] = model(batch)\n",
    "        output['original_text'] = np.array(\n",
    "            [tokenizer.decode(sentence) for sentence in batch['input_ids']])\n",
    "        outputs.append(output)\n",
    "\n",
    "    if (len(texts_remain) > 0):\n",
    "        batch_remain = tokenizer(\n",
    "            list(texts_remain), return_tensors=\"tf\", padding=True)\n",
    "        batch_remain[\"labels\"] = tf.fill(\n",
    "            [1, batch_remain['input_ids'].shape[0]], tf.constant(model.num_labels-1))\n",
    "        output = dict()\n",
    "        output['TFSequenceClassifierOutput'] = model(batch_remain)\n",
    "        output['original_text'] = np.array(\n",
    "            [tokenizer.decode(sentence) for sentence in batch_remain['input_ids']])\n",
    "        outputs.append(output)\n",
    "        \n",
    "    return outputs\n"
   ],
   "outputs": [],
   "metadata": {}
  },
  {
   "cell_type": "markdown",
   "source": [
    "## define dataset"
   ],
   "metadata": {}
  },
  {
   "cell_type": "code",
   "execution_count": null,
   "source": [
    "import pandas as pd\n",
    "df = pd.read_csv('data/SPAM text message 20170820 - Data.csv', header=0)\n",
    "texts = df['Message'].to_numpy()[:100]\n",
    "print(len(texts))"
   ],
   "outputs": [],
   "metadata": {}
  },
  {
   "cell_type": "markdown",
   "source": [
    "## experiment"
   ],
   "metadata": {}
  },
  {
   "cell_type": "code",
   "execution_count": null,
   "source": [
    "import time\n",
    "result = []\n",
    "batch_sizes = []\n",
    "for batch_size in range(1, len(texts)+1):\n",
    "    batch_sizes.append(batch_size)\n",
    "    result_at_batch_size = []\n",
    "    for i in range(5):\n",
    "        start = time.time()\n",
    "        outputs = batch_predict(model, tokenizer, texts, batch_size=batch_size)\n",
    "        end = time.time()\n",
    "        result_at_batch_size.append(end - start)\n",
    "    result.append(result_at_batch_size)\n"
   ],
   "outputs": [],
   "metadata": {}
  },
  {
   "cell_type": "markdown",
   "source": [
    "### show results"
   ],
   "metadata": {}
  },
  {
   "cell_type": "code",
   "execution_count": null,
   "source": [
    "import matplotlib.pyplot as plt\n",
    "fig, ax = plt.subplots(figsize=(20,5))\n",
    "ax.boxplot(result)\n",
    "ax.set_yscale('log')\n",
    "ax.set_xlabel('batch_size')\n",
    "ax.set_xticklabels(batch_sizes)\n",
    "ax.set_ylabel('seconds')\n",
    "plt.show()"
   ],
   "outputs": [],
   "metadata": {}
  },
  {
   "cell_type": "code",
   "execution_count": null,
   "source": [
    "avg = np.average(np.array(result), axis=-1)\n",
    "print(f'batch_size: {avg.argmin()-1}, avg: {avg.min()} sec')"
   ],
   "outputs": [],
   "metadata": {}
  }
 ],
 "metadata": {
  "orig_nbformat": 4,
  "language_info": {
   "name": "python",
   "version": "3.7.11",
   "mimetype": "text/x-python",
   "codemirror_mode": {
    "name": "ipython",
    "version": 3
   },
   "pygments_lexer": "ipython3",
   "nbconvert_exporter": "python",
   "file_extension": ".py"
  },
  "kernelspec": {
   "name": "python3",
   "display_name": "Python 3.7.11 64-bit ('venv': conda)"
  },
  "interpreter": {
   "hash": "2c6c7a2d5b0529f7198ea89bf8f5b7b7e8de4fbceb313ea569d8fdb731e78f99"
  }
 },
 "nbformat": 4,
 "nbformat_minor": 2
}